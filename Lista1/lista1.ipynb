{
 "cells": [
  {
   "cell_type": "markdown",
   "metadata": {},
   "source": [
    "# Lista 1\n",
    "\n",
    "## Kurs wybranego języka programowania (Python)\n",
    "\n",
    "Wszystkie rozwiązania proszę wpisać w tym notatniku poniżej treści zadań. Zadania z `*` to zadania dodatkowe."
   ]
  },
  {
   "cell_type": "markdown",
   "metadata": {},
   "source": [
    "## Zadanie 1 _(5pt)_\n",
    "\n",
    "Napisz funkcję, który wyświetla trójkąt Pascala o zadanej wysokości\n",
    "```\n",
    "                1\n",
    "              1   1\n",
    "            1   2   1\n",
    "          1   3   3   1\n",
    "        1   4   6   4   1\n",
    "      .....................\n",
    "```"
   ]
  },
  {
   "cell_type": "code",
   "execution_count": 11,
   "metadata": {},
   "outputs": [
    {
     "name": "stdout",
     "output_type": "stream",
     "text": [
      "                  1   \n",
      "                1   1   \n",
      "              1   2   1   \n",
      "            1   3   3   1   \n",
      "          1   4   6   4   1   \n",
      "        1   5   10   10   5   1   \n",
      "      1   6   15   20   15   6   1   \n",
      "    1   7   21   35   35   21   7   1   \n",
      "  1   8   28   56   70   56   28   8   1   \n"
     ]
    }
   ],
   "source": [
    "def pascal_triangle(n):\n",
    "    prev_row = [1] # poprzedni wiersz, potrzebny do wyliczenia obecnego\n",
    "    current_row = []\n",
    "    for i in range(n):\n",
    "        print(' ' * (n - i)*2 , end='') # wcięcie\n",
    "        \n",
    "        for j in range(1, i):\n",
    "            current_row[j] = prev_row[j] + prev_row[j-1]\n",
    "        current_row.append(1)\n",
    "        \n",
    "        for elem in current_row:\n",
    "            print(elem, end='   ')\n",
    "        print()\n",
    "        \n",
    "        prev_row = current_row.copy()\n",
    "\n",
    "# test        \n",
    "pascal_triangle(9) "
   ]
  },
  {
   "cell_type": "markdown",
   "metadata": {},
   "source": [
    "## Zadanie 2 _(5pt)_\n",
    "\n",
    "Napisz funkcję `primes(n)` zwracająca listę liczb pierwszych nie większych niż $n$ np.\n",
    "\n",
    "```\n",
    "In [ ]:   primes(6)\n",
    "Out [ ]: [2, 3, 5]\n",
    "```"
   ]
  },
  {
   "cell_type": "code",
   "execution_count": 12,
   "metadata": {},
   "outputs": [
    {
     "data": {
      "text/plain": [
       "[2,\n",
       " 3,\n",
       " 5,\n",
       " 7,\n",
       " 11,\n",
       " 13,\n",
       " 17,\n",
       " 19,\n",
       " 23,\n",
       " 29,\n",
       " 31,\n",
       " 37,\n",
       " 41,\n",
       " 43,\n",
       " 47,\n",
       " 53,\n",
       " 59,\n",
       " 61,\n",
       " 67,\n",
       " 71,\n",
       " 73,\n",
       " 79,\n",
       " 83,\n",
       " 89,\n",
       " 97]"
      ]
     },
     "execution_count": 12,
     "metadata": {},
     "output_type": "execute_result"
    }
   ],
   "source": [
    "def primes(n):\n",
    "    sieve = list(range(2, n+1))\n",
    "    for num in sieve:\n",
    "        if num != 0:\n",
    "            for multiple in range(num + num, n+1, num):\n",
    "                sieve[multiple - 2] = 0\n",
    "    return [num for num in sieve if num != 0]\n",
    "    \n",
    "    \n",
    "primes(100)"
   ]
  },
  {
   "cell_type": "markdown",
   "metadata": {},
   "source": [
    "## Zadanie 3 _(5pt)_\n",
    "\n",
    "Napisz funkcje, która usuwa wszystkie powtarzające się elementy z listy (tak, że każdy element występuje tylko raz) np. z listy `[1,1,2,2,2,3,3,5,5,5,4,4,4,0]` dostajemy `[1,2,3,5,4,0]`."
   ]
  },
  {
   "cell_type": "code",
   "execution_count": 13,
   "metadata": {},
   "outputs": [
    {
     "data": {
      "text/plain": [
       "[1, 2, 3, 5, 4, 0]"
      ]
     },
     "execution_count": 13,
     "metadata": {},
     "output_type": "execute_result"
    }
   ],
   "source": [
    "def remove_duplicates(l):\n",
    "    return list(dict.fromkeys(l))\n",
    "\n",
    "remove_duplicates([1,1,2,2,2,3,3,5,5,5,4,4,4,0])"
   ]
  },
  {
   "cell_type": "markdown",
   "metadata": {},
   "source": [
    "## Zadanie 4 _(10pt)_\n",
    "\n",
    "Napisz funkcję `prime_factors(n)`, która rozkłada $n$ na czynniki pierwsze i jako wynik wraca listę par $[(p_1,\\alpha_1), (p_2,\\alpha_2), \\ldots, (p_k, \\alpha_k)]$ taką, że $p_1^{\\alpha_1}p_2^{\\alpha_2}\\ldots p_k^{\\alpha_k}$.\n"
   ]
  },
  {
   "cell_type": "code",
   "execution_count": 14,
   "metadata": {},
   "outputs": [
    {
     "data": {
      "text/plain": [
       "[(2, 3), (3, 1)]"
      ]
     },
     "execution_count": 14,
     "metadata": {},
     "output_type": "execute_result"
    }
   ],
   "source": [
    "def prime_factors(n):\n",
    "    factor = 2\n",
    "    factors_with_count = {}\n",
    "    while n != 1:\n",
    "        while n % factor != 0:\n",
    "            factor += 1\n",
    "        if factor in factors_with_count:\n",
    "            factors_with_count[factor] += 1\n",
    "        else:\n",
    "            factors_with_count[factor] = 1\n",
    "        n //= factor\n",
    "    return list(factors_with_count.items())\n",
    "    \n",
    "prime_factors(24)"
   ]
  },
  {
   "cell_type": "markdown",
   "metadata": {},
   "source": [
    "## Zadanie 5 _(10pt)_\n",
    "\n",
    "Napisz funkcję `fraczero(n)` liczącą silnie $n!$ dla $n$ od $0$ do $10000$ oraz jako wynik wraca liczbę zer na końcu $n!$."
   ]
  },
  {
   "cell_type": "code",
   "execution_count": 16,
   "metadata": {},
   "outputs": [
    {
     "name": "stdout",
     "output_type": "stream",
     "text": [
      "93326215443944152681699238856266700490715968264381621468592963895217599993229915608941463976156518286253697920827223758251185210916864000000000000000000000000\n"
     ]
    },
    {
     "data": {
      "text/plain": [
       "24"
      ]
     },
     "execution_count": 16,
     "metadata": {},
     "output_type": "execute_result"
    }
   ],
   "source": [
    "import re\n",
    "\n",
    "def fraczero(n):\n",
    "    fact = 1\n",
    "    for idx in range(1, n+1):\n",
    "        fact *= idx\n",
    "    print(str(fact))\n",
    "    return len(re.findall('0*$', str(fact))[0])\n",
    "\n",
    "fraczero(100)"
   ]
  },
  {
   "cell_type": "markdown",
   "metadata": {},
   "source": [
    "## Zadanie 6 _(10pt)_\n",
    "\n",
    "Napisz program, który generuje liczbę $20$ liczb losowych (rozkład jednostajny) od $1$ do $100$\n",
    "* Wyświetl listę wygenerowanych liczb\n",
    "* Wyświetl średnią\n",
    "* Wyświetl największą i najmniejszą wartość\n",
    "* Wyświetl drugą największą i drugą najmniejszą wartość na liście\n",
    "* Wyświetl ile jest liczb parzystych na liście\n",
    " "
   ]
  },
  {
   "cell_type": "code",
   "execution_count": 17,
   "metadata": {},
   "outputs": [
    {
     "name": "stdout",
     "output_type": "stream",
     "text": [
      "Lista: [72, 45, 84, 90, 80, 88, 72, 11, 50, 51, 92, 90, 12, 40, 85, 5, 34, 71, 26, 21]\n",
      "Średnia: 55.95\n",
      "Max: 92\n",
      "Min: 5\n",
      "Drugi max: 90\n",
      "Drugi min: 11\n",
      "Liczba parzystych: 13\n"
     ]
    }
   ],
   "source": [
    "from random import seed\n",
    "from random import randint\n",
    "\n",
    "seed()\n",
    "\n",
    "random_list = [randint(1, 100) for _ in range(1, 21)]\n",
    "avg = sum(random_list)/len(random_list)\n",
    "maximal = max(random_list)\n",
    "minimal = min(random_list)\n",
    "maximal2 = max(elem for elem in random_list if elem != maximal)\n",
    "minimal2 = min(elem for elem in random_list if elem != minimal)\n",
    "even_count = sum(1 for elem in random_list if elem % 2 == 0)\n",
    "\n",
    "print(\"Lista:\", random_list)\n",
    "print(\"Średnia:\", avg)\n",
    "print(\"Max:\", maximal)\n",
    "print(\"Min:\", minimal)\n",
    "print(\"Drugi max:\", maximal2)\n",
    "print(\"Drugi min:\", minimal2)\n",
    "print(\"Liczba parzystych:\", even_count)"
   ]
  },
  {
   "cell_type": "markdown",
   "metadata": {},
   "source": [
    "## Zadanie 7 _(10pt)_\n",
    "\n",
    "Załóżmy, że mamy następującą listę: `L = ['aababacaa', 'cabaabcca', 'aaabbcbacb', 'acababbaab', ...]` wygenerowaną losowo tzn. lista zawiera losowe ciągi znaków o zadanej długości z liter `'a'`, `'b'` i `'c'`. Takie wzorce występują w wielu miejscach np. sekwencje DNA. Użytkownik zawiera swój (wzorzec) ciąg znaków z literami i pustymi miejscami oznaczonymi przez `'*'` np. `\"a**a******\"`. Wykorzystaj słownik z kluczami zawierającymi indeksy znaków różnych od `'*'` i wartościami liter z wzorca. Napisz program, który znajduje wszystkie sekwencje z listy, które pasuje do podanego wzorca."
   ]
  },
  {
   "cell_type": "code",
   "execution_count": 18,
   "metadata": {},
   "outputs": [
    {
     "data": {
      "text/plain": [
       "['alamakota']"
      ]
     },
     "execution_count": 18,
     "metadata": {},
     "output_type": "execute_result"
    }
   ],
   "source": [
    "def match_pattern(pattern, strings):\n",
    "    pattern_dict = {}\n",
    "    for idx, letter in enumerate(pattern):\n",
    "        if letter != '*':\n",
    "            pattern_dict[idx] = letter\n",
    "            \n",
    "    matching_strings = []\n",
    "    \n",
    "    for string in strings:\n",
    "        if (len(string) != len(pattern)):\n",
    "            continue\n",
    "            \n",
    "        valid = True\n",
    "        for idx, letter in pattern_dict.items():\n",
    "            if(string[idx] != letter):\n",
    "                valid = False\n",
    "                break\n",
    "\n",
    "        if valid:\n",
    "            matching_strings.append(string)\n",
    "        \n",
    "    return matching_strings\n",
    "\n",
    "match_pattern(\"a**a******\", ['aababacaa', 'cabaabcca', 'aaabbcbacb', 'acbaabbaab'])\n",
    "match_pattern(\"al*m**ot*\", ['alamakota', 'aaaaaaaaa'])"
   ]
  },
  {
   "cell_type": "markdown",
   "metadata": {},
   "source": [
    "## Zadanie 8 _(10pt)_\n",
    "\n",
    "Napisz program, który konwerteruje liczby rzymskie na liczby arabskie. Do zapisu liczb rzymskich używa\n",
    "się 7 liter: `I=1`, `V=5`, `X=10`, `L=50`, `C=100`, `D=500`, `M=1000`. Opis algorytmu zamiany z i na system rzymski można znaleźć np. [tutaj](http://www.algorytm.org/algorytmy-arytmetyczne/zamiana-z-i-na-system-rzymski.html)"
   ]
  },
  {
   "cell_type": "code",
   "execution_count": 19,
   "metadata": {},
   "outputs": [
    {
     "data": {
      "text/plain": [
       "2999"
      ]
     },
     "execution_count": 19,
     "metadata": {},
     "output_type": "execute_result"
    }
   ],
   "source": [
    "def rzym2arab(rzym):\n",
    "    symbol_map = {\n",
    "        'M': (1000, ('CM', 900)),\n",
    "        'D': (500, ('CD', 400)),\n",
    "        'C': (100, ('XC', 90)),\n",
    "        'L': (50, ('XL', 40)),\n",
    "        'X': (10, ('IX', 9)),\n",
    "        'V': (5, ('IV', 4)),\n",
    "        'I': (1, ())\n",
    "    }\n",
    "    symbol_gen = (symbol for symbol in symbol_map.keys())\n",
    "    actual_symbol = next(symbol_gen)\n",
    "\n",
    "    i = 0\n",
    "    result = 0\n",
    "    while(i < len(rzym)):\n",
    "        if rzym[i] == actual_symbol:\n",
    "            result += symbol_map[rzym[i]][0]\n",
    "            i += 1\n",
    "        elif (actual_symbol != 'I' and \n",
    "              i+1 < len(rzym) and \n",
    "              (rzym[i] + rzym[i+1]) == symbol_map[actual_symbol][1][0]):\n",
    "            \n",
    "            result += symbol_map[actual_symbol][1][1]\n",
    "            actual_symbol = next(symbol_gen)\n",
    "            i += 2\n",
    "        else:\n",
    "            actual_symbol = next(symbol_gen)\n",
    "        \n",
    "    return result\n",
    "\n",
    "rzym2arab('MMCMXCIX')"
   ]
  },
  {
   "cell_type": "markdown",
   "metadata": {},
   "source": [
    "## Zadanie 9* _(5pt)_\n",
    "\n",
    "Napisz program kalkulator, który pobiera wprowadzone wartości oraz funkcje z klawiatury następnie podaje wynik. W przypadku błędnych danych zgłasza błąd.\n",
    "\n",
    "Przykładowa sesja:\n",
    "```\n",
    "    Kalkulator\n",
    "    [1]: 2+5*10\n",
    "        52\n",
    "    [2]: sin(0.5)+cos(0.3)\n",
    "        1.434762027729809\n",
    "    [3]: 2^100\n",
    "        1267650600228229401496703205376\n",
    "```\n",
    "\n",
    "Przykładowy kod pobierania danych od użytkownika:\n",
    "\n",
    "```\n",
    "    x = input('Podaj x = ')\n",
    "```"
   ]
  },
  {
   "cell_type": "code",
   "execution_count": 4,
   "metadata": {},
   "outputs": [
    {
     "name": "stdout",
     "output_type": "stream",
     "text": [
      "Kalkulator\n",
      "**\n",
      "Your formula was not able to be parsed\n",
      "....\n",
      "Your formula was not able to be parsed\n",
      "print(20)\n",
      "20\n",
      "None\n",
      "exit\n"
     ]
    }
   ],
   "source": [
    "from math import *\n",
    "import re\n",
    "print(\"Kalkulator\")\n",
    "x = input()\n",
    "while x != 'exit':\n",
    "    x = re.sub('\\^', '**', x)\n",
    "    try:\n",
    "        print(eval(x))\n",
    "    except NameError:\n",
    "        print('You used undefined symbol')\n",
    "    except SyntaxError:\n",
    "        print('Your formula was not able to be parsed')\n",
    "    x = input()"
   ]
  },
  {
   "cell_type": "markdown",
   "metadata": {},
   "source": [
    "\n",
    "## Zadanie 10* _(10pt)_\n",
    "\n",
    "Napisz program, który rysuje na ekranie w trybie znakowym wykres funkcji zmiennej $x$. Wskazówka: utwórz  ,,tablicę dwuwymiarową'' o wymiarach 80x24 i narysuj wykres w tej tablicy. Następnie wynik wyświetl na ekranie.\n",
    "\n",
    "```\n",
    "        Podaj funkcje f(x) = sin(x)\n",
    "        Podaj początek przedziału a = -pi\n",
    "        Podaj koniec przedziału b = pi\n",
    "                                                |\n",
    "                                                |\n",
    "                                                |              ***********\n",
    "                                                |           ***           ***\n",
    "                                                |         **                 **\n",
    "                                                |        *                     *\n",
    "                                                |      **                       **\n",
    "                                                |     *                           *\n",
    "                                                |   **                             **\n",
    "                                                |  *                                 *\n",
    "                                                | *                                   *\n",
    "                                                |*                                     *\n",
    "        ----------------------------------------|---------------------------------------\n",
    "          *                                   * |\n",
    "           *                                 *  |\n",
    "            **                             **   |\n",
    "              *                           *     |\n",
    "               **                       **      |\n",
    "                 *                     *        |\n",
    "                  **                 **         |\n",
    "                    ***           ***           |\n",
    "                       ***** *****              |\n",
    "                            *                   |\n",
    "                                                |\n",
    "```"
   ]
  },
  {
   "cell_type": "code",
   "execution_count": 30,
   "metadata": {
    "scrolled": false
   },
   "outputs": [
    {
     "name": "stdout",
     "output_type": "stream",
     "text": [
      "                                        |                  *                    \n",
      "                                        |             ***** *****               \n",
      "                                        |           **           **             \n",
      "                                        |         **               **           \n",
      "                                        |        *                   **         \n",
      "                                        |       *                      *        \n",
      "                                        |     **                        *       \n",
      "                                        |    *                           *      \n",
      "                                        |   *                             **    \n",
      "                                        |  *                                *   \n",
      "                                        | *                                  *  \n",
      "                                        |*                                    * \n",
      "*--------------------------------------**--------------------------------------*\n",
      " *                                    * |                                       \n",
      "  *                                  *  |                                       \n",
      "   *                                *   |                                       \n",
      "    **                             *    |                                       \n",
      "      *                           *     |                                       \n",
      "       *                        **      |                                       \n",
      "        *                      *        |                                       \n",
      "         **                   *         |                                       \n",
      "           **               **          |                                       \n",
      "             **           **            |                                       \n",
      "               ***********              |                                       \n"
     ]
    }
   ],
   "source": [
    "from math import *\n",
    "\n",
    "def draw_graph(func, start, end):\n",
    "    height = 24\n",
    "    width = 80\n",
    "    \n",
    "    axis_X = height // 2\n",
    "    axis_Y = width // 2\n",
    "    \n",
    "    step_X = (end - start) / (width - 1)\n",
    "    \n",
    "    values = [func(start + column * step_X) for column in range(width)]\n",
    "    \n",
    "    max_value = max(values)\n",
    "    min_value = min(values)\n",
    "    \n",
    "    step_Y = 0\n",
    "    if (max_value - min_value) != 0:\n",
    "        step_Y = (height - 1) / (max_value - min_value)\n",
    "    \n",
    "    graph = [[' ' for _ in range(height)] for _ in range(width)]\n",
    "    for column, _ in enumerate(graph):\n",
    "        graph[column][axis_X] = '-'\n",
    "    \n",
    "    for row, _ in enumerate(graph[axis_Y]):\n",
    "        graph[axis_Y][row] = '|'\n",
    "        \n",
    "    for column in range(width):\n",
    "        row_index = (height - 1) - floor((values[column] - min_value) * step_Y)\n",
    "        graph[column][row_index] = '*'      \n",
    "    \n",
    "    for row in range(height):\n",
    "        for column in range(width):\n",
    "            print(graph[column][row], end='')\n",
    "        print()\n",
    "        \n",
    "    \n",
    "draw_graph(lambda x: sin(x), -pi, pi)"
   ]
  },
  {
   "cell_type": "code",
   "execution_count": null,
   "metadata": {},
   "outputs": [],
   "source": []
  }
 ],
 "metadata": {
  "kernelspec": {
   "display_name": "Python 3",
   "language": "python",
   "name": "python3"
  },
  "language_info": {
   "codemirror_mode": {
    "name": "ipython",
    "version": 3
   },
   "file_extension": ".py",
   "mimetype": "text/x-python",
   "name": "python",
   "nbconvert_exporter": "python",
   "pygments_lexer": "ipython3",
   "version": "3.8.2"
  }
 },
 "nbformat": 4,
 "nbformat_minor": 2
}
